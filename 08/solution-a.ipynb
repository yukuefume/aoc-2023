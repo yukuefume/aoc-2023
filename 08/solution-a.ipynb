{
 "cells": [
  {
   "cell_type": "code",
   "execution_count": null,
   "metadata": {},
   "outputs": [],
   "source": [
    "from aocd import get_data, submit\n",
    "\n",
    "data = get_data(day=8, year=2023)\n",
    "data = data.split('\\n')\n",
    "data"
   ]
  },
  {
   "cell_type": "code",
   "execution_count": null,
   "metadata": {},
   "outputs": [],
   "source": [
    "sample_data = \"\"\"LLR\n",
    "\n",
    "AAA = (BBB, BBB)\n",
    "BBB = (AAA, ZZZ)\n",
    "ZZZ = (ZZZ, ZZZ)\"\"\"\n",
    "sample_data = sample_data.split('\\n')\n",
    "\n",
    "sample_data"
   ]
  },
  {
   "cell_type": "code",
   "execution_count": null,
   "metadata": {},
   "outputs": [],
   "source": [
    "input_data = data"
   ]
  },
  {
   "cell_type": "code",
   "execution_count": null,
   "metadata": {},
   "outputs": [],
   "source": [
    "instructions = input_data[0]\n",
    "instructions"
   ]
  },
  {
   "cell_type": "code",
   "execution_count": null,
   "metadata": {},
   "outputs": [],
   "source": [
    "network = input_data[2::]\n",
    "network_map = {}\n",
    "\n",
    "for node in network:\n",
    "  key, value = node.split('=')\n",
    "  key = key.strip()\n",
    "  value = (value[2:5], value[7:10])\n",
    "  network_map[key] = value\n",
    "\n",
    "network_map"
   ]
  },
  {
   "cell_type": "code",
   "execution_count": null,
   "metadata": {},
   "outputs": [],
   "source": [
    "start = 'AAA'\n",
    "end = 'ZZZ'\n",
    "\n",
    "node = start\n",
    "index = 0\n",
    "cnt = 0\n",
    "\n",
    "while index >= 0:\n",
    "  direction = instructions[index]\n",
    "  d_num = 0\n",
    "\n",
    "  if direction == 'R':\n",
    "    d_num = 1\n",
    "\n",
    "  node = network_map[node][d_num]\n",
    "\n",
    "  # Exit condition\n",
    "  if node == end:\n",
    "    index = -1\n",
    "  # Reset index\n",
    "  elif index >= 0 and index == len(instructions)-1:\n",
    "    index = 0\n",
    "  else:\n",
    "    index = index + 1\n",
    "\n",
    "  cnt = cnt + 1\n",
    "\n",
    "cnt"
   ]
  }
 ],
 "metadata": {
  "kernelspec": {
   "display_name": "aoc-2023",
   "language": "python",
   "name": "python3"
  },
  "language_info": {
   "codemirror_mode": {
    "name": "ipython",
    "version": 3
   },
   "file_extension": ".py",
   "mimetype": "text/x-python",
   "name": "python",
   "nbconvert_exporter": "python",
   "pygments_lexer": "ipython3",
   "version": "3.12.0"
  }
 },
 "nbformat": 4,
 "nbformat_minor": 2
}
