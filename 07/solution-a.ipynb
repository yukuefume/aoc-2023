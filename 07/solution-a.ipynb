{
 "cells": [
  {
   "cell_type": "code",
   "execution_count": null,
   "metadata": {},
   "outputs": [],
   "source": [
    "from aocd import get_data, submit\n",
    "\n",
    "data = get_data(day=7, year=2023)\n",
    "data = data.split('\\n')\n",
    "data"
   ]
  },
  {
   "cell_type": "code",
   "execution_count": null,
   "metadata": {},
   "outputs": [],
   "source": [
    "sample_data = \"\"\"32T3K 765\n",
    "T55J5 684\n",
    "KK677 28\n",
    "KTJJT 220\n",
    "QQQJA 483\"\"\"\n",
    "sample_data = sample_data.split('\\n')\n",
    "\n",
    "sample_data"
   ]
  },
  {
   "cell_type": "code",
   "execution_count": null,
   "metadata": {},
   "outputs": [],
   "source": [
    "input_data = sample_data"
   ]
  },
  {
   "cell_type": "code",
   "execution_count": null,
   "metadata": {},
   "outputs": [],
   "source": [
    "def rank(hands):\n",
    "  cards = {}\n",
    "\n",
    "  for card in hands:\n",
    "    cards[card] = hands.count(card)\n",
    "\n",
    "  # Sort by highest value\n",
    "  cards = sorted(cards.items(), key=lambda item: item[1], reverse=True)\n",
    "\n",
    "  # Determine hand\n",
    "  score = 0\n",
    "  highest_count = cards[0][1]\n",
    "  next_highest_count = 0\n",
    "\n",
    "  if len(cards) > 1:\n",
    "    next_highest_count = cards[1][1]\n",
    "\n",
    "  if highest_count == 5:\n",
    "    score = 7\n",
    "  elif highest_count == 4:\n",
    "    score = 6\n",
    "  elif highest_count == 3 and next_highest_count == 2:\n",
    "    score = 5\n",
    "  elif highest_count == 3:\n",
    "    score = 4\n",
    "  elif highest_count == 2 and next_highest_count == 2:\n",
    "    score = 3\n",
    "  elif highest_count == 2:\n",
    "    score = 2\n",
    "  else:\n",
    "    score = 1\n",
    "\n",
    "  return score\n",
    "\n",
    "def high_card_hand(hand1, hand2):\n",
    "  score = {\n",
    "    'A': 15,\n",
    "    'K': 14,\n",
    "    'Q': 13,\n",
    "    'J': 12,\n",
    "    'T': 11,\n",
    "    '9': 10,\n",
    "    '8': 9,\n",
    "    '7': 8,\n",
    "    '6': 7,\n",
    "    '5': 4,\n",
    "    '4': 3,\n",
    "    '3': 2,\n",
    "    '2': 1,\n",
    "  }\n",
    "\n",
    "  for h1, h2 in zip(hand1, hand2):\n",
    "    if score[h1] > score[h2]:\n",
    "      return hand1\n",
    "    elif score[h2] > score[h1]:\n",
    "      return hand2\n",
    "\n",
    "  return hand1\n",
    "\n",
    "def compare_hands(card1, card2):\n",
    "  hand1 = card1[0]\n",
    "  hand2 = card2[0]\n",
    "\n",
    "  if rank(hand1) < rank(hand2):\n",
    "    return -1\n",
    "  elif rank(hand1) > rank(hand2):\n",
    "    return 1\n",
    "  elif rank(hand1) == rank(hand2):\n",
    "    higher_hand = high_card_hand(hand1, hand2)\n",
    "    if higher_hand == hand1:\n",
    "      return 1\n",
    "    elif higher_hand == hand2:\n",
    "      return -1\n",
    "    else:\n",
    "      return 0"
   ]
  },
  {
   "cell_type": "code",
   "execution_count": null,
   "metadata": {},
   "outputs": [],
   "source": [
    "hands = []\n",
    "\n",
    "for card in input_data:\n",
    "  hand, bid = card.split()\n",
    "\n",
    "  hands.append((hand,bid))"
   ]
  },
  {
   "cell_type": "code",
   "execution_count": null,
   "metadata": {},
   "outputs": [],
   "source": [
    "from functools import cmp_to_key\n",
    "\n",
    "ranked_list = sorted(hands, key=cmp_to_key(compare_hands))\n",
    "ranked_list"
   ]
  },
  {
   "cell_type": "code",
   "execution_count": null,
   "metadata": {},
   "outputs": [],
   "source": [
    "total = 0\n",
    "\n",
    "for rank_s, hand in enumerate(ranked_list, 1):\n",
    "  total = total + (rank_s*int(hand[1]))\n",
    "\n",
    "total"
   ]
  }
 ],
 "metadata": {
  "kernelspec": {
   "display_name": "aoc-2023",
   "language": "python",
   "name": "python3"
  },
  "language_info": {
   "codemirror_mode": {
    "name": "ipython",
    "version": 3
   },
   "file_extension": ".py",
   "mimetype": "text/x-python",
   "name": "python",
   "nbconvert_exporter": "python",
   "pygments_lexer": "ipython3",
   "version": "3.12.0"
  }
 },
 "nbformat": 4,
 "nbformat_minor": 2
}
