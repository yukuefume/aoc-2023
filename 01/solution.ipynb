{
 "cells": [
  {
   "cell_type": "code",
   "execution_count": null,
   "metadata": {},
   "outputs": [],
   "source": [
    "from aocd import get_data, submit\n",
    "\n",
    "data = get_data(day=1, year=2023)\n",
    "data = data.split('\\n')"
   ]
  },
  {
   "cell_type": "markdown",
   "metadata": {},
   "source": [
    "Part 1"
   ]
  },
  {
   "cell_type": "code",
   "execution_count": null,
   "metadata": {},
   "outputs": [],
   "source": [
    "value_total = 0\n",
    "\n",
    "for line in data:\n",
    "  extracted_numbers = [value for value in line if value.isdigit()]\n",
    "  cal_value = extracted_numbers[0] + extracted_numbers[-1]\n",
    "  value_total = value_total + int(cal_value)\n",
    "\n",
    "print(value_total)"
   ]
  },
  {
   "cell_type": "markdown",
   "metadata": {},
   "source": [
    "Part 2"
   ]
  },
  {
   "cell_type": "code",
   "execution_count": null,
   "metadata": {},
   "outputs": [],
   "source": [
    "import re\n",
    "\n",
    "number_to_word_map = {\n",
    "  'one': 1,\n",
    "  'two': 2,\n",
    "  'three': 3,\n",
    "  'four': 4,\n",
    "  'five': 5,\n",
    "  'six': 6,\n",
    "  'seven': 7,\n",
    "  'eight': 8,\n",
    "  'nine': 9,\n",
    "}\n",
    "\n",
    "value_total_2 = 0\n",
    "\n",
    "for line in data:\n",
    "  all_values = []\n",
    "  words = []\n",
    "\n",
    "  # Find all keywords in the line, and store their position and transfored value in a tuple.\n",
    "  for item in [re.finditer(key, line) for key in number_to_word_map]:\n",
    "    for i in item:\n",
    "      words.append((i.start(), number_to_word_map[i.group()]))\n",
    "\n",
    "  # Find all digits in the line, and store their position and value in a tuple.\n",
    "  numbers = [(index,value) for index, value in enumerate(line) if value.isdigit()]\n",
    "\n",
    "  # Join all extracted values together.\n",
    "  all_values = words + numbers\n",
    "\n",
    "  # Sort values by index.\n",
    "  sorted_values = sorted(all_values, key = lambda x: x[0])\n",
    "\n",
    "  # Calibration value = first digit + last digit\n",
    "  cal_value = f'{sorted_values[0][1]}{sorted_values[-1][1]}'\n",
    "\n",
    "  # Add to running total.\n",
    "  value_total_2 = value_total_2 + int(cal_value)\n",
    "\n",
    "print(value_total_2)"
   ]
  }
 ],
 "metadata": {
  "kernelspec": {
   "display_name": "aoc-2023",
   "language": "python",
   "name": "python3"
  },
  "language_info": {
   "codemirror_mode": {
    "name": "ipython",
    "version": 3
   },
   "file_extension": ".py",
   "mimetype": "text/x-python",
   "name": "python",
   "nbconvert_exporter": "python",
   "pygments_lexer": "ipython3",
   "version": "3.12.0"
  }
 },
 "nbformat": 4,
 "nbformat_minor": 2
}
