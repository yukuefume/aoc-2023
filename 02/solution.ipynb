{
 "cells": [
  {
   "cell_type": "code",
   "execution_count": null,
   "metadata": {},
   "outputs": [],
   "source": [
    "from aocd import get_data, submit\n",
    "\n",
    "data = get_data(day=2, year=2023)\n",
    "data = data.split('\\n')\n",
    "data"
   ]
  },
  {
   "cell_type": "code",
   "execution_count": null,
   "metadata": {},
   "outputs": [],
   "source": [
    "class Color:\n",
    "  def __init__(self, r, g , b):\n",
    "    self.red = r\n",
    "    self.green = g\n",
    "    self.blue = b\n",
    "\n",
    "  def __str__(self):\n",
    "    return f'red: {self.red}, green: {self.green}, blue: {self.blue}'\n",
    "\n",
    "class Game:\n",
    "  def __init__(self, number: int):\n",
    "    self.number = number\n",
    "    self.colors = []\n",
    "\n",
    "  def add_color(self, color: Color):\n",
    "    self.colors.append(color)\n",
    "\n",
    "  def playable(self, r, g, b):\n",
    "    play_cnt = 0\n",
    "\n",
    "    for color in self.colors:\n",
    "      if (r >= color.red) and (g >= color.green) and (b >= color.blue):\n",
    "        play_cnt = play_cnt + 1\n",
    "\n",
    "    return play_cnt == len(self.colors)\n",
    "\n",
    "  def playable_power(self):\n",
    "    r = 0\n",
    "    g = 0\n",
    "    b = 0\n",
    "\n",
    "    for color in self.colors:\n",
    "      if color.red > r:\n",
    "        r = color.red\n",
    "      if color.green > g:\n",
    "        g = color.green\n",
    "      if color.blue > b:\n",
    "        b = color.blue\n",
    "\n",
    "    return r * g * b\n",
    "\n",
    "  def __str__(self):\n",
    "    return f'Game: {self.number}, {[str(color) for color in self.colors]}'"
   ]
  },
  {
   "cell_type": "code",
   "execution_count": null,
   "metadata": {},
   "outputs": [],
   "source": [
    "def generate_games():\n",
    "  games = []\n",
    "\n",
    "  for line in data:\n",
    "    number, cubes = line.split(':')\n",
    "    number = int(number.split()[-1])\n",
    "    cubes = cubes.split(';')\n",
    "\n",
    "    game = Game(number)\n",
    "\n",
    "    for cube in cubes:\n",
    "      r = 0\n",
    "      g = 0\n",
    "      b = 0\n",
    "\n",
    "      for color in cube.split(','):\n",
    "        if 'red' in color:\n",
    "          r = int(color.split()[0])\n",
    "        elif 'green' in color:\n",
    "          g = int(color.split()[0])\n",
    "        elif 'blue' in color:\n",
    "          b = int(color.split()[0])\n",
    "\n",
    "      color = Color(r,g,b)\n",
    "      game.add_color(color)\n",
    "\n",
    "    games.append(game)\n",
    "\n",
    "  return games"
   ]
  },
  {
   "cell_type": "code",
   "execution_count": null,
   "metadata": {},
   "outputs": [],
   "source": [
    "def part1():\n",
    "  games = generate_games()\n",
    "  playable_games = [g.number for g in games if g.playable(12,13,14)]\n",
    "\n",
    "  return sum(playable_games)"
   ]
  },
  {
   "cell_type": "code",
   "execution_count": null,
   "metadata": {},
   "outputs": [],
   "source": [
    "def part2():\n",
    "  powers = 0\n",
    "  games = generate_games()\n",
    "\n",
    "  for game in games:\n",
    "    powers = powers + game.playable_power()\n",
    "\n",
    "  return powers\n"
   ]
  },
  {
   "cell_type": "code",
   "execution_count": null,
   "metadata": {},
   "outputs": [],
   "source": [
    "part1_result = part1()\n",
    "part2_result = part2()\n",
    "\n",
    "print(part1_result)\n",
    "print(part2_result)\n"
   ]
  }
 ],
 "metadata": {
  "kernelspec": {
   "display_name": "aoc-2023",
   "language": "python",
   "name": "python3"
  },
  "language_info": {
   "codemirror_mode": {
    "name": "ipython",
    "version": 3
   },
   "file_extension": ".py",
   "mimetype": "text/x-python",
   "name": "python",
   "nbconvert_exporter": "python",
   "pygments_lexer": "ipython3",
   "version": "3.12.0"
  }
 },
 "nbformat": 4,
 "nbformat_minor": 2
}
