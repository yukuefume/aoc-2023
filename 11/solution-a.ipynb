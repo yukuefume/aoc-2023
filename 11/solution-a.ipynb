{
 "cells": [
  {
   "cell_type": "code",
   "execution_count": null,
   "metadata": {},
   "outputs": [],
   "source": [
    "from aocd import get_data, submit\n",
    "\n",
    "data = get_data(day=11, year=2023)\n",
    "data = data.split('\\n')\n"
   ]
  },
  {
   "cell_type": "code",
   "execution_count": null,
   "metadata": {},
   "outputs": [],
   "source": [
    "sample_data = \"\"\"...#......\n",
    ".......#..\n",
    "#.........\n",
    "..........\n",
    "......#...\n",
    ".#........\n",
    ".........#\n",
    "..........\n",
    ".......#..\n",
    "#...#.....\"\"\"\n",
    "sample_data = sample_data.split('\\n')\n",
    "\n",
    "sample_data"
   ]
  },
  {
   "cell_type": "code",
   "execution_count": null,
   "metadata": {},
   "outputs": [],
   "source": [
    "input_data = sample_data"
   ]
  },
  {
   "cell_type": "code",
   "execution_count": null,
   "metadata": {},
   "outputs": [],
   "source": [
    "galaxies = []\n",
    "h_spaces = set(range(len(input_data[0])))\n",
    "v_spaces = set(range(len(input_data)))\n",
    "\n",
    "for y, line in enumerate(input_data):\n",
    "  for x, char in enumerate(line):\n",
    "    if char == '#':\n",
    "      galaxies.append((x, y))\n",
    "      h_spaces.discard(y)\n",
    "      v_spaces.discard(x)\n",
    "\n",
    "print(galaxies)\n",
    "print(h_spaces)\n",
    "print(v_spaces)"
   ]
  },
  {
   "cell_type": "code",
   "execution_count": null,
   "metadata": {},
   "outputs": [],
   "source": [
    "expanded_galaxies = []\n",
    "\n",
    "for galaxy in galaxies:\n",
    "  x, y = galaxy\n",
    "\n",
    "  for h_expansion, v_space in enumerate(v_spaces):\n",
    "    if x >= v_space+h_expansion:\n",
    "      x += 1\n",
    "\n",
    "  for v_expansion, h_space in enumerate(h_spaces):\n",
    "    if y >= h_space+v_expansion:\n",
    "      y += 1\n",
    "\n",
    "  expanded_galaxies.append((x, y))\n",
    "\n",
    "expanded_galaxies"
   ]
  },
  {
   "cell_type": "code",
   "execution_count": null,
   "metadata": {},
   "outputs": [],
   "source": [
    "import itertools\n",
    "\n",
    "def dist(p1, p2):\n",
    "  return abs(p1[0]-p2[0]) + abs(p1[1]-p2[1])\n",
    "\n",
    "length_sum = 0\n",
    "\n",
    "for e1, e2 in itertools.combinations(expanded_galaxies, 2):\n",
    "    print(f'{e1} {e2} {dist(e1, e2)}')\n",
    "    length_sum += dist(e1, e2)\n",
    "    print(length_sum)\n",
    "    print()\n",
    "\n",
    "length_sum"
   ]
  }
 ],
 "metadata": {
  "kernelspec": {
   "display_name": "aoc-2023",
   "language": "python",
   "name": "python3"
  },
  "language_info": {
   "codemirror_mode": {
    "name": "ipython",
    "version": 3
   },
   "file_extension": ".py",
   "mimetype": "text/x-python",
   "name": "python",
   "nbconvert_exporter": "python",
   "pygments_lexer": "ipython3",
   "version": "3.12.0"
  }
 },
 "nbformat": 4,
 "nbformat_minor": 2
}
