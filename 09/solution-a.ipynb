{
 "cells": [
  {
   "cell_type": "code",
   "execution_count": null,
   "metadata": {},
   "outputs": [],
   "source": [
    "from aocd import get_data, submit\n",
    "\n",
    "data = get_data(day=9, year=2023)\n",
    "data = data.split('\\n')\n",
    "data"
   ]
  },
  {
   "cell_type": "code",
   "execution_count": null,
   "metadata": {},
   "outputs": [],
   "source": [
    "sample_data = \"\"\"0 3 6 9 12 15\n",
    "1 3 6 10 15 21\n",
    "10 13 16 21 30 45\"\"\"\n",
    "sample_data = sample_data.split('\\n')\n",
    "\n",
    "sample_data"
   ]
  },
  {
   "cell_type": "code",
   "execution_count": null,
   "metadata": {},
   "outputs": [],
   "source": [
    "input_data = data"
   ]
  },
  {
   "cell_type": "code",
   "execution_count": null,
   "metadata": {},
   "outputs": [],
   "source": [
    "def differences(values, history):\n",
    "  diff = []\n",
    "\n",
    "  for i in range(0, len(values)-1):\n",
    "    first_v = int(values[i])\n",
    "    next_v = int(values[i+1])\n",
    "\n",
    "    diff.append(next_v - first_v)\n",
    "\n",
    "  print(diff)\n",
    "\n",
    "  if diff.count(0) != len(diff):\n",
    "    return differences(diff, values[-1]) + history\n",
    "\n",
    "  return values[-1]+history\n",
    "\n",
    "next_seq_total = 0\n",
    "\n",
    "for values in input_data:\n",
    "  parsed_values = [int(v) for v in values.split()]\n",
    "  print(parsed_values)\n",
    "  next_seq_total = next_seq_total + differences(parsed_values, 0)\n",
    "  print()\n",
    "\n",
    "print(next_seq_total)"
   ]
  }
 ],
 "metadata": {
  "kernelspec": {
   "display_name": "aoc-2023",
   "language": "python",
   "name": "python3"
  },
  "language_info": {
   "codemirror_mode": {
    "name": "ipython",
    "version": 3
   },
   "file_extension": ".py",
   "mimetype": "text/x-python",
   "name": "python",
   "nbconvert_exporter": "python",
   "pygments_lexer": "ipython3",
   "version": "3.12.0"
  }
 },
 "nbformat": 4,
 "nbformat_minor": 2
}
