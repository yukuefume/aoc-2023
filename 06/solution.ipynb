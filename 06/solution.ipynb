{
 "cells": [
  {
   "cell_type": "code",
   "execution_count": null,
   "metadata": {},
   "outputs": [],
   "source": [
    "from aocd import get_data, submit\n",
    "\n",
    "data = get_data(day=6, year=2023)\n",
    "data = data.split('\\n')\n",
    "data"
   ]
  },
  {
   "cell_type": "code",
   "execution_count": null,
   "metadata": {},
   "outputs": [],
   "source": [
    "def num_of_ways_to_win(time_limit, total_distance):\n",
    "  cnt = 0\n",
    "\n",
    "  for i in range(0, time_limit):\n",
    "    dt = (time_limit-i) * i\n",
    "\n",
    "    if dt > total_distance:\n",
    "      cnt = cnt + 1\n",
    "\n",
    "  return cnt"
   ]
  },
  {
   "cell_type": "markdown",
   "metadata": {},
   "source": [
    "Part A"
   ]
  },
  {
   "cell_type": "code",
   "execution_count": null,
   "metadata": {},
   "outputs": [],
   "source": [
    "time = [int(i) for i in data[0].split()[1::]]\n",
    "distance = [int(i) for i in data[1].split()[1::]]\n",
    "\n",
    "def get_result(time, distance):\n",
    "  res = 1\n",
    "\n",
    "  for i, t in enumerate(time):\n",
    "    res = res * num_of_ways_to_win(t, distance[i])\n",
    "\n",
    "  return res\n",
    "\n",
    "get_result(time, distance)"
   ]
  },
  {
   "cell_type": "markdown",
   "metadata": {},
   "source": [
    "Part B"
   ]
  },
  {
   "cell_type": "code",
   "execution_count": null,
   "metadata": {},
   "outputs": [],
   "source": [
    "time_b = [int(''.join([str(t) for t in time]))]\n",
    "distance_b = [int(''.join([str(d) for d in distance]))]\n",
    "\n",
    "get_result(time_b, distance_b)"
   ]
  }
 ],
 "metadata": {
  "kernelspec": {
   "display_name": "aoc-2023",
   "language": "python",
   "name": "python3"
  },
  "language_info": {
   "codemirror_mode": {
    "name": "ipython",
    "version": 3
   },
   "file_extension": ".py",
   "mimetype": "text/x-python",
   "name": "python",
   "nbconvert_exporter": "python",
   "pygments_lexer": "ipython3",
   "version": "3.12.0"
  }
 },
 "nbformat": 4,
 "nbformat_minor": 2
}
