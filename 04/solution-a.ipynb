{
 "cells": [
  {
   "cell_type": "code",
   "execution_count": null,
   "metadata": {},
   "outputs": [],
   "source": [
    "from aocd import get_data, submit\n",
    "\n",
    "data = get_data(day=4, year=2023)\n",
    "data = data.split('\\n')\n",
    "data\n",
    "\n",
    "sample_data = [\n",
    "  'Card 1: 41 48 83 86 17 | 83 86  6 31 17  9 48 53',\n",
    "  'Card 2: 13 32 20 16 61 | 61 30 68 82 17 32 24 19',\n",
    "  'Card 3:  1 21 53 59 44 | 69 82 63 72 16 21 14  1',\n",
    "  'Card 4: 41 92 73 84 69 | 59 84 76 51 58  5 54 83',\n",
    "  'Card 5: 87 83 26 28 32 | 88 30 70 12 93 22 82 36',\n",
    "  'Card 6: 31 18 13 56 72 | 74 77 10 23 35 67 36 1',\n",
    "]\n",
    "\n",
    "sample_data"
   ]
  },
  {
   "cell_type": "code",
   "execution_count": null,
   "metadata": {},
   "outputs": [],
   "source": [
    "total_points = 0\n",
    "\n",
    "for line in data:\n",
    "  card, game = line.split(':')\n",
    "  winning, mynumber = game.split('|')\n",
    "\n",
    "  winning = winning.split()\n",
    "  mynumber = mynumber.split()\n",
    "\n",
    "  winning_numbers = []\n",
    "\n",
    "  # Calculate winnings\n",
    "  for i in mynumber:\n",
    "    if i in winning:\n",
    "      winning_numbers.append(i)\n",
    "\n",
    "  # Calculate points\n",
    "  points = 0\n",
    "\n",
    "  if len(winning_numbers) == 1:\n",
    "    points = 1\n",
    "  elif len(winning_numbers) > 1:\n",
    "    points = pow(2, (len(winning_numbers)) - 1)\n",
    "\n",
    "  total_points = total_points + points\n",
    "\n",
    "  print(f'{winning} {mynumber}')\n",
    "  print(f'win: {winning_numbers}')\n",
    "  print(f'points: {points}')\n",
    "  print(f'total: {total_points}')\n",
    "  print('')\n",
    "  \n",
    "total_points"
   ]
  }
 ],
 "metadata": {
  "kernelspec": {
   "display_name": "aoc-2023",
   "language": "python",
   "name": "python3"
  },
  "language_info": {
   "codemirror_mode": {
    "name": "ipython",
    "version": 3
   },
   "file_extension": ".py",
   "mimetype": "text/x-python",
   "name": "python",
   "nbconvert_exporter": "python",
   "pygments_lexer": "ipython3",
   "version": "3.12.0"
  }
 },
 "nbformat": 4,
 "nbformat_minor": 2
}
