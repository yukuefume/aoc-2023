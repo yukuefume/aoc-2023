{
 "cells": [
  {
   "cell_type": "code",
   "execution_count": null,
   "metadata": {},
   "outputs": [],
   "source": [
    "from aocd import get_data, submit\n",
    "\n",
    "data = get_data(day=4, year=2023)\n",
    "data = data.split('\\n')\n",
    "data\n",
    "\n",
    "sample_data = [\n",
    "  'Card 1: 41 48 83 86 17 | 83 86  6 31 17  9 48 53',\n",
    "  'Card 2: 13 32 20 16 61 | 61 30 68 82 17 32 24 19',\n",
    "  'Card 3:  1 21 53 59 44 | 69 82 63 72 16 21 14  1',\n",
    "  'Card 4: 41 92 73 84 69 | 59 84 76 51 58  5 54 83',\n",
    "  'Card 5: 87 83 26 28 32 | 88 30 70 12 93 22 82 36',\n",
    "  'Card 6: 31 18 13 56 72 | 74 77 10 23 35 67 36 1',\n",
    "]\n",
    "\n",
    "sample_data"
   ]
  },
  {
   "cell_type": "code",
   "execution_count": null,
   "metadata": {},
   "outputs": [],
   "source": [
    "class TreeNode:\n",
    "  def __init__(self, data):\n",
    "    self.data = data\n",
    "    self.children = []\n",
    "    self.parent = None\n",
    "\n",
    "  def add_child(self, child):\n",
    "    child.parent = self\n",
    "    self.children.append(child)\n",
    "\n",
    "  def level(self):\n",
    "    level = 0\n",
    "    parent = self.parent\n",
    "    while parent:\n",
    "      level += 1\n",
    "      parent = parent.parent\n",
    "\n",
    "    return level\n",
    "\n",
    "  def print_tree(self):\n",
    "    spaces = ' ' * self.level() * 3\n",
    "\n",
    "    print(f'{spaces}Card: {self.data}')\n",
    "\n",
    "    if self.children:\n",
    "      for child in self.children:\n",
    "        child.print_tree()\n",
    "\n",
    "  def count_child(self, ):\n",
    "    return sum(1 + child.count_child() for child in self.children)"
   ]
  },
  {
   "cell_type": "code",
   "execution_count": null,
   "metadata": {},
   "outputs": [],
   "source": [
    "clean_data = {}\n",
    "# Build clean data\n",
    "for index, line in enumerate(data):\n",
    "  card, game = line.split(':')\n",
    "  winning, mynumber = game.split('|')\n",
    "\n",
    "  winning = winning.split()\n",
    "  mynumber = mynumber.split()\n",
    "\n",
    "  card_no = int(card.split()[1])\n",
    "\n",
    "  clean_data[card_no] = (winning, mynumber)\n",
    "\n",
    "clean_data"
   ]
  },
  {
   "cell_type": "code",
   "execution_count": null,
   "metadata": {},
   "outputs": [],
   "source": [
    "def build_tree(root, card_no, data):\n",
    "  winning_no, my_number = clean_data[card_no]\n",
    "\n",
    "  next_card = 1\n",
    "  for n in my_number:\n",
    "    if n in winning_no:\n",
    "      child = TreeNode(card_no + next_card)\n",
    "      root.add_child(child)\n",
    "      build_tree(child, card_no + next_card, data)\n",
    "      next_card = next_card + 1\n",
    "\n",
    "  return root"
   ]
  },
  {
   "cell_type": "code",
   "execution_count": null,
   "metadata": {},
   "outputs": [],
   "source": [
    "nodes = []\n",
    "\n",
    "for line in clean_data:\n",
    "  root = TreeNode(line)\n",
    "  nodes.append(build_tree(root, line, clean_data))\n",
    "\n",
    "# for n in nodes:\n",
    "#   n.print_tree()\n",
    "cards = len(nodes)\n",
    "\n",
    "for n in nodes:\n",
    "  cards = cards + n.count_child()\n",
    "\n",
    "cards"
   ]
  }
 ],
 "metadata": {
  "kernelspec": {
   "display_name": "aoc-2023",
   "language": "python",
   "name": "python3"
  },
  "language_info": {
   "codemirror_mode": {
    "name": "ipython",
    "version": 3
   },
   "file_extension": ".py",
   "mimetype": "text/x-python",
   "name": "python",
   "nbconvert_exporter": "python",
   "pygments_lexer": "ipython3",
   "version": "3.12.0"
  }
 },
 "nbformat": 4,
 "nbformat_minor": 2
}
