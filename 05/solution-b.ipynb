{
 "cells": [
  {
   "cell_type": "code",
   "execution_count": null,
   "metadata": {},
   "outputs": [],
   "source": [
    "from aocd import get_data, submit\n",
    "\n",
    "data = get_data(day=5, year=2023)\n",
    "data = data.split('\\n')\n",
    "data"
   ]
  },
  {
   "cell_type": "code",
   "execution_count": null,
   "metadata": {},
   "outputs": [],
   "source": [
    "sample_data = \"\"\"seeds: 79 14 55 13\n",
    "\n",
    "seed-to-soil map:\n",
    "50 98 2\n",
    "52 50 48\n",
    "\n",
    "soil-to-fertilizer map:\n",
    "0 15 37\n",
    "37 52 2\n",
    "39 0 15\n",
    "\n",
    "fertilizer-to-water map:\n",
    "49 53 8\n",
    "0 11 42\n",
    "42 0 7\n",
    "57 7 4\n",
    "\n",
    "water-to-light map:\n",
    "88 18 7\n",
    "18 25 70\n",
    "\n",
    "light-to-temperature map:\n",
    "45 77 23\n",
    "81 45 19\n",
    "68 64 13\n",
    "\n",
    "temperature-to-humidity map:\n",
    "0 69 1\n",
    "1 0 69\n",
    "\n",
    "humidity-to-location map:\n",
    "60 56 37\n",
    "56 93 4\"\"\"\n",
    "\n",
    "sample_data = sample_data.split('\\n')\n",
    "sample_data"
   ]
  },
  {
   "cell_type": "code",
   "execution_count": null,
   "metadata": {},
   "outputs": [],
   "source": [
    "input_data = data\n",
    "\n",
    "seeds = [int(n) for n in input_data[0].split(':')[1].strip().split()]\n",
    "seeds"
   ]
  },
  {
   "cell_type": "code",
   "execution_count": null,
   "metadata": {},
   "outputs": [],
   "source": [
    "# Seed ranges\n",
    "seed_ranges = []\n",
    "\n",
    "for i in range(0, len(seeds), 2):\n",
    "  seed_ranges.append(seeds[i:i + 2])\n",
    "\n",
    "seed_ranges"
   ]
  },
  {
   "cell_type": "code",
   "execution_count": null,
   "metadata": {},
   "outputs": [],
   "source": [
    "import re\n",
    "\n",
    "mappings = []\n",
    "map_input = input_data[2::]\n",
    "\n",
    "value = []\n",
    "for i, m in enumerate(map_input):\n",
    "  # Check if contains a number\n",
    "  if bool(re.search(r'\\d', m)):\n",
    "    value.append([int(n) for n in m.split()])\n",
    "  elif m == '':\n",
    "    mappings.append(value)\n",
    "    value = []  # Reset value array\n",
    "\n",
    "# Add last value\n",
    "if value:\n",
    "  mappings.append(value)\n",
    "\n",
    "# Reverse categories\n",
    "mappings = mappings[::-1]\n",
    "mappings"
   ]
  },
  {
   "cell_type": "markdown",
   "metadata": {},
   "source": [
    "Reverse source -> dest for part 2"
   ]
  },
  {
   "cell_type": "code",
   "execution_count": null,
   "metadata": {},
   "outputs": [],
   "source": [
    "def next_value(value_list, num):\n",
    "  for source, dest, v_range in value_list:\n",
    "    # Within range\n",
    "    if source <= num < (source+v_range):\n",
    "      # Calculate difference\n",
    "      diff = (source-dest) * -1\n",
    "      return num + diff\n",
    "  return num"
   ]
  },
  {
   "cell_type": "code",
   "execution_count": null,
   "metadata": {},
   "outputs": [],
   "source": [
    "# BRUTE FORCE\n",
    "\n",
    "# location = [n[0::2] for n in mappings[0]]\n",
    "# print(location)\n",
    "# # Order by lowest location\n",
    "# location.sort()\n",
    "\n",
    "# Check if location is a valid seed\n",
    "# for loc in location:\n",
    "#   for i in range(loc[0], loc[0]+loc[1]):\n",
    "flag = False\n",
    "for i in range(0, 1000000000000000):\n",
    "  num = i\n",
    "  for category in mappings:\n",
    "    num = next_value(category, num)\n",
    "\n",
    "  for start, s_range in seed_ranges:\n",
    "    stop = start + s_range\n",
    "\n",
    "    if start <= num < stop:\n",
    "      print(f'{i} {num}: {start} {s_range}')\n",
    "      flag = True\n",
    "      break\n",
    "\n",
    "  if flag:\n",
    "    break"
   ]
  }
 ],
 "metadata": {
  "kernelspec": {
   "display_name": "aoc-2023",
   "language": "python",
   "name": "python3"
  },
  "language_info": {
   "codemirror_mode": {
    "name": "ipython",
    "version": 3
   },
   "file_extension": ".py",
   "mimetype": "text/x-python",
   "name": "python",
   "nbconvert_exporter": "python",
   "pygments_lexer": "ipython3",
   "version": "3.12.0"
  }
 },
 "nbformat": 4,
 "nbformat_minor": 2
}
